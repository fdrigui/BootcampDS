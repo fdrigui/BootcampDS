{
 "cells": [
  {
   "cell_type": "markdown",
   "id": "23f83cd7-c364-4507-a42b-552e2598c686",
   "metadata": {},
   "source": [
    "<a id='home'></a>\n",
    "<img src=\"img/BCTheme.png\"><br>\n",
    "<div style=\"text-align: right\"><b>Filipi Destro Rigui</b> | <a href=\"https://www.linkedin.com/in/filipirigui/\">LinkedIn</a> | <a href=\"https://github.com/fdrigui\">Github</a></div>\n",
    "\n",
    "| [Aula 04]() | [Aula 06]() |"
   ]
  },
  {
   "cell_type": "markdown",
   "id": "d9e47f52-3f70-4262-b431-5921776457d4",
   "metadata": {},
   "source": [
    "<h1><b><span style=\"color:#5C0040\">Aula 05:</span></b> Manipulando datas e gerando novas análises</h1>"
   ]
  },
  {
   "cell_type": "markdown",
   "id": "240c4e5b-9836-42fa-b264-de0855b6b6b9",
   "metadata": {},
   "source": [
    "<a id='nota'></a>\n",
    "______________________________________\n",
    "<h2><b><span style=\"color:#5C0040\">Anotações:</span></b></h2>"
   ]
  },
  {
   "cell_type": "markdown",
   "id": "9b368c70-ce2a-4fe4-98c0-f3bcee86e2f2",
   "metadata": {},
   "source": [
    "<a id='aula'></a>\n",
    "________________________________\n",
    "<h2><b><span style=\"color:#5C0040\">Aula:</span></b></h2>"
   ]
  },
  {
   "cell_type": "markdown",
   "id": "70d5a4bb-3fae-4134-8382-86af41ddff0f",
   "metadata": {},
   "source": [
    "<a id='desafios'></a>\n",
    "____________________\n",
    "<h2><b><span style=\"color:#5C0040\">Desafio:</span></b></h2>"
   ]
  },
  {
   "cell_type": "markdown",
   "id": "32db530c-0da0-4041-83db-1d339971aea5",
   "metadata": {},
   "source": [
    "___________________________________________________\n",
    "| [Home](#home) | [Aula 06]() |"
   ]
  }
 ],
 "metadata": {
  "kernelspec": {
   "display_name": "Python 3",
   "language": "python",
   "name": "python3"
  },
  "language_info": {
   "codemirror_mode": {
    "name": "ipython",
    "version": 3
   },
   "file_extension": ".py",
   "mimetype": "text/x-python",
   "name": "python",
   "nbconvert_exporter": "python",
   "pygments_lexer": "ipython3",
   "version": "3.8.10"
  }
 },
 "nbformat": 4,
 "nbformat_minor": 5
}
