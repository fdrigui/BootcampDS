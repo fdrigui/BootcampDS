{
 "cells": [
  {
   "cell_type": "markdown",
   "id": "23f83cd7-c364-4507-a42b-552e2598c686",
   "metadata": {},
   "source": [
    "<a id='home'></a>\n",
    "<img src=\"img/BCTheme.png\"><br>\n",
    "<div style=\"text-align: right\"><b>Filipi Destro Rigui</b> | <a href=\"https://www.linkedin.com/in/filipirigui/\">LinkedIn</a> | <a href=\"https://github.com/fdrigui\">Github</a></div>\n",
    "\n",
    "| [Módulo 02](https://github.com/fdrigui/BootcampDataScience/blob/main/module_one/readme.md) | [Aula 02](https://github.com/fdrigui/BootcampDataScience/blob/main/module_one/Aula4.ipynb) |"
   ]
  },
  {
   "cell_type": "markdown",
   "id": "c66edd29-48ef-44da-8d99-0987479c9a4c",
   "metadata": {
    "tags": []
   },
   "source": [
    "<h1><b><span style=\"color:#5C0040\">Aula 01:</span></b> Fontes externas, limpeza e manipulação de dados</h1>"
   ]
  },
  {
   "cell_type": "markdown",
   "id": "b8aa834d-383a-4729-8ae2-b4d58844f5c3",
   "metadata": {},
   "source": [
    "<h1><b><span style=\"color:#5C0040\">Aula 02:</span></b> Fontes externas, limpeza e manipulação de dados</h1>"
   ]
  },
  {
   "cell_type": "markdown",
   "id": "e1ba5dff-a141-49a3-8573-7d34c56c5556",
   "metadata": {},
   "source": [
    "<h1><b><span style=\"color:#5C0040\">Aula 03:</span></b> Fontes externas, limpeza e manipulação de dados</h1>"
   ]
  },
  {
   "cell_type": "markdown",
   "id": "efc31bf2-f54f-4f4a-a957-ee0c9cb0a064",
   "metadata": {},
   "source": [
    "<h1><b><span style=\"color:#5C0040\">Aula 04:</span></b> Fontes externas, limpeza e manipulação de dados</h1>"
   ]
  },
  {
   "cell_type": "markdown",
   "id": "025d8bac-7731-459a-a2d5-51f603238d0e",
   "metadata": {},
   "source": [
    "<h1><b><span style=\"color:#5C0040\">Aula 05:</span></b> Fontes externas, limpeza e manipulação de dados</h1>"
   ]
  },
  {
   "cell_type": "markdown",
   "id": "504deb0b-7e7a-46f1-a37f-20eb874056ec",
   "metadata": {},
   "source": [
    "<h1><b><span style=\"color:#5C0040\">Aula 06:</span></b> Fontes externas, limpeza e manipulação de dados</h1>"
   ]
  },
  {
   "cell_type": "markdown",
   "id": "32db530c-0da0-4041-83db-1d339971aea5",
   "metadata": {},
   "source": [
    "___________________________________________________\n",
    "| [Home](#home) | [Aula 02](https://github.com/fdrigui/BootcampDataScience/blob/main/module_one/Aula4.ipynb) |"
   ]
  }
 ],
 "metadata": {
  "kernelspec": {
   "display_name": "Python 3",
   "language": "python",
   "name": "python3"
  },
  "language_info": {
   "codemirror_mode": {
    "name": "ipython",
    "version": 3
   },
   "file_extension": ".py",
   "mimetype": "text/x-python",
   "name": "python",
   "nbconvert_exporter": "python",
   "pygments_lexer": "ipython3",
   "version": "3.8.10"
  }
 },
 "nbformat": 4,
 "nbformat_minor": 5
}
