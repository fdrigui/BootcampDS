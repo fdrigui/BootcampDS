{
 "cells": [
  {
   "cell_type": "markdown",
   "id": "23f83cd7-c364-4507-a42b-552e2598c686",
   "metadata": {},
   "source": [
    "<a id='home'></a>\n",
    "<img src=\"../img/BCTheme.png\"><br>\n",
    "<div style=\"text-align: right\">\n",
    "    <p style=\"text-align: right; font-size:16px; font-style: italic\">Filipi Rigui</p>\n",
    "    <a href=\"https://www.linkedin.com/in/filipirigui/\"><img border=\"0\" alt=\"LinkedIn\" src=\"../img/in.png\" width=\"32\" height=\"32\"></a>   \n",
    "    <a href=\"https://github.com/fdrigui\"><img border=\"0\" alt=\"LinkedIn\" src=\"../img/gh.png\" width=\"32\" height=\"32\"></a>\n",
    "</div><br>\n",
    "<p><i>Para uma melhor imersão visual, abrir projeto no <b>Jupyter ou Google Colab</b></i></p>\n",
    "\n",
    "  [ **Readme Módulo 02**](readme.md)<br>\n",
    "| [Aula 01](#Aula_01) | [Aula 02](#Aula_02) | [Aula 03](#Aula_03) | [Aula 04](#Aula_04) | [Aula 05](#Aula_05) | [Aula 06](#Aula_06) |\n",
    "________________________"
   ]
  },
  {
   "cell_type": "markdown",
   "id": "c66edd29-48ef-44da-8d99-0987479c9a4c",
   "metadata": {
    "tags": []
   },
   "source": [
    "<a id='Aula_01'></a>\n",
    "<h1><b><span style=\"color:#5C0040\">Aula 01:</span></b> Fontes externas, limpeza e manipulação de dados</h1>\n",
    "<div style=\"text-align: right\"><a href=\"Aula_01.ipynb\"><b>Notebook Aula_01</b></a>\n",
    "\n",
    "_______________________"
   ]
  },
  {
   "cell_type": "markdown",
   "id": "b8aa834d-383a-4729-8ae2-b4d58844f5c3",
   "metadata": {},
   "source": [
    "<a id='Aula_02'></a>\n",
    "<h1><b><span style=\"color:#5C0040\">Aula 02:</span></b> Fontes externas, limpeza e manipulação de dados</h1>\n",
    "<div style=\"text-align: right\"><a href=\"Aula_02.ipynb\"><b>Notebook Aula_02</b></a>\n",
    "\n",
    "________"
   ]
  },
  {
   "cell_type": "markdown",
   "id": "e1ba5dff-a141-49a3-8573-7d34c56c5556",
   "metadata": {},
   "source": [
    "<a id='Aula_03'></a>\n",
    "<h1><b><span style=\"color:#5C0040\">Aula 03:</span></b> Fontes externas, limpeza e manipulação de dados</h1>\n",
    "<div style=\"text-align: right\"><a href=\"Aula_03.ipynb\"><b>Notebook Aula_03</b></a>\n",
    "\n",
    "_______"
   ]
  },
  {
   "cell_type": "markdown",
   "id": "efc31bf2-f54f-4f4a-a957-ee0c9cb0a064",
   "metadata": {},
   "source": [
    "<a id='Aula_04'></a>\n",
    "<h1><b><span style=\"color:#5C0040\">Aula 04:</span></b> Fontes externas, limpeza e manipulação de dados</h1>\n",
    "<div style=\"text-align: right\"><a href=\"Aula_04.ipynb\"><b>Notebook Aula_04</b></a>\n",
    "\n",
    "_______"
   ]
  },
  {
   "cell_type": "markdown",
   "id": "025d8bac-7731-459a-a2d5-51f603238d0e",
   "metadata": {},
   "source": [
    "<a id='Aula_05'></a>\n",
    "<h1><b><span style=\"color:#5C0040\">Aula 05:</span></b> Fontes externas, limpeza e manipulação de dados</h1>\n",
    "<div style=\"text-align: right\"><a href=\"Aula_05.ipynb\"><b>Notebook Aula_05</b></a>\n",
    "\n",
    "______"
   ]
  },
  {
   "cell_type": "markdown",
   "id": "504deb0b-7e7a-46f1-a37f-20eb874056ec",
   "metadata": {},
   "source": [
    "<a id='Aula_06'></a>\n",
    "<h1><b><span style=\"color:#5C0040\">Aula 06:</span></b> Fontes externas, limpeza e manipulação de dados</h1>\n",
    "<div style=\"text-align: right\"><a href=\"Aula_06.ipynb\"><b>Notebook Aula_06</b></a>\n",
    "\n",
    "_____"
   ]
  },
  {
   "cell_type": "markdown",
   "id": "32db530c-0da0-4041-83db-1d339971aea5",
   "metadata": {},
   "source": [
    "<a id='footer'></a>\n",
    "| [Home](#home) |"
   ]
  }
 ],
 "metadata": {
  "kernelspec": {
   "display_name": "Python 3",
   "language": "python",
   "name": "python3"
  },
  "language_info": {
   "codemirror_mode": {
    "name": "ipython",
    "version": 3
   },
   "file_extension": ".py",
   "mimetype": "text/x-python",
   "name": "python",
   "nbconvert_exporter": "python",
   "pygments_lexer": "ipython3",
   "version": "3.8.10"
  }
 },
 "nbformat": 4,
 "nbformat_minor": 5
}
