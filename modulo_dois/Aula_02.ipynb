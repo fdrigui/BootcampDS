{
 "cells": [
  {
   "cell_type": "markdown",
   "id": "23f83cd7-c364-4507-a42b-552e2598c686",
   "metadata": {},
   "source": [
    "<a id='home'></a>\n",
    "<img src=\"../img/BCTheme.png\"><br>\n",
    "<div style=\"text-align: right\">\n",
    "    <p style=\"text-align: right; font-size:16px; font-style: italic\">Filipi Rigui</p>\n",
    "    <a href=\"https://www.linkedin.com/in/filipirigui/\"><img border=\"0\" alt=\"LinkedIn\" src=\"../img/in.png\" width=\"32\" height=\"32\"></a>   \n",
    "    <a href=\"https://github.com/fdrigui\"><img border=\"0\" alt=\"LinkedIn\" src=\"../img/gh.png\" width=\"32\" height=\"32\"></a>\n",
    "</div><br>\n",
    "<p><i>Para uma melhor imersão visual, abrir projeto no <b>Jupyter ou Google Colab</b></i></p>\n",
    "\n",
    "  [ **Readme Módulo 02**](readme.md)<br>\n",
    "\n",
    "| [Aula 01](Aula_01.ipynb) | [Aula 3](Aula_03.ipynb) |"
   ]
  },
  {
   "cell_type": "markdown",
   "id": "a76ca718-19d4-4830-98e1-e23eaadedd42",
   "metadata": {},
   "source": [
    "<h1><b><span style=\"color:#5C0040\">Aula 02:</span></b> Proporcionalidades e Seaborn</h1>"
   ]
  },
  {
   "cell_type": "markdown",
   "id": "240c4e5b-9836-42fa-b264-de0855b6b6b9",
   "metadata": {},
   "source": [
    "<a id='nota'></a>\n",
    "______________________________________\n",
    "<h2><b><span style=\"color:#5C0040\">Anotações:</span></b></h2>"
   ]
  },
  {
   "cell_type": "markdown",
   "id": "9b368c70-ce2a-4fe4-98c0-f3bcee86e2f2",
   "metadata": {},
   "source": [
    "<a id='aula'></a>\n",
    "________________________________\n",
    "<h2><b><span style=\"color:#5C0040\">Aula:</span></b></h2>"
   ]
  },
  {
   "cell_type": "markdown",
   "id": "70d5a4bb-3fae-4134-8382-86af41ddff0f",
   "metadata": {},
   "source": [
    "<a id='desafios'></a>\n",
    "____________________\n",
    "<h2><b><span style=\"color:#5C0040\">Desafio:</span></b></h2>"
   ]
  },
  {
   "cell_type": "markdown",
   "id": "32db530c-0da0-4041-83db-1d339971aea5",
   "metadata": {},
   "source": [
    "___________________________________________________\n",
    "| [Home](#home) | [Aula 03](Aula_03.ipynb) |"
   ]
  }
 ],
 "metadata": {
  "kernelspec": {
   "display_name": "Python 3",
   "language": "python",
   "name": "python3"
  },
  "language_info": {
   "codemirror_mode": {
    "name": "ipython",
    "version": 3
   },
   "file_extension": ".py",
   "mimetype": "text/x-python",
   "name": "python",
   "nbconvert_exporter": "python",
   "pygments_lexer": "ipython3",
   "version": "3.8.10"
  }
 },
 "nbformat": 4,
 "nbformat_minor": 5
}
