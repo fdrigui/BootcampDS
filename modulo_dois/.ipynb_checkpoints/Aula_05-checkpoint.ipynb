{
 "cells": [
  {
   "cell_type": "markdown",
   "id": "23f83cd7-c364-4507-a42b-552e2598c686",
   "metadata": {},
   "source": [
    "<a id='home'></a>\n",
    "<img src=\"img/BCTheme.png\"><br>\n",
    "<div style=\"text-align: right\"><b>Filipi Destro Rigui</b> | <a href=\"https://www.linkedin.com/in/filipirigui/\">LinkedIn</a> | <a href=\"https://github.com/fdrigui\">Github</a></div>\n",
    "\n",
    "| [Módulo 02](https://github.com/fdrigui/BootcampDataScience/blob/main/module_one/readme.md) | [Aula 02](https://github.com/fdrigui/BootcampDataScience/blob/main/module_one/Aula4.ipynb) |\n",
    "<h1><b><span style=\"color:#5C0040\">Aula 01:</span></b> Fontes externas, limpeza e manipulação de dados</h1>"
   ]
  },
  {
   "cell_type": "markdown",
   "id": "240c4e5b-9836-42fa-b264-de0855b6b6b9",
   "metadata": {},
   "source": [
    "<a id='nota'></a>\n",
    "______________________________________\n",
    "<h2><b><span style=\"color:#5C0040\">Anotações:</span></b></h2>"
   ]
  },
  {
   "cell_type": "markdown",
   "id": "9b368c70-ce2a-4fe4-98c0-f3bcee86e2f2",
   "metadata": {},
   "source": [
    "<a id='aula'></a>\n",
    "________________________________\n",
    "<h2><b><span style=\"color:#5C0040\">Aula:</span></b></h2>"
   ]
  },
  {
   "cell_type": "markdown",
   "id": "70d5a4bb-3fae-4134-8382-86af41ddff0f",
   "metadata": {},
   "source": [
    "<a id='desafios'></a>\n",
    "____________________\n",
    "<h2><b><span style=\"color:#5C0040\">Desafio:</span></b></h2>"
   ]
  },
  {
   "cell_type": "markdown",
   "id": "32db530c-0da0-4041-83db-1d339971aea5",
   "metadata": {},
   "source": [
    "___________________________________________________\n",
    "| [Home](#home) | [Aula 02](https://github.com/fdrigui/BootcampDataScience/blob/main/module_one/Aula4.ipynb) |"
   ]
  },
  {
   "cell_type": "code",
   "execution_count": null,
   "id": "31090231-c9ae-4dd0-82d5-7c6173a11a6b",
   "metadata": {},
   "outputs": [],
   "source": []
  },
  {
   "cell_type": "code",
   "execution_count": null,
   "id": "e55713d9-6412-4276-816e-b9434fbda2f9",
   "metadata": {},
   "outputs": [],
   "source": []
  }
 ],
 "metadata": {
  "kernelspec": {
   "display_name": "Python 3",
   "language": "python",
   "name": "python3"
  },
  "language_info": {
   "codemirror_mode": {
    "name": "ipython",
    "version": 3
   },
   "file_extension": ".py",
   "mimetype": "text/x-python",
   "name": "python",
   "nbconvert_exporter": "python",
   "pygments_lexer": "ipython3",
   "version": "3.8.10"
  }
 },
 "nbformat": 4,
 "nbformat_minor": 5
}
